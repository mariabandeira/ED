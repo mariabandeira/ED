{
  "nbformat": 4,
  "nbformat_minor": 0,
  "metadata": {
    "colab": {
      "provenance": [],
      "authorship_tag": "ABX9TyOHBkxvcOG3qT6k5mQSjXbg",
      "include_colab_link": true
    },
    "kernelspec": {
      "name": "python3",
      "display_name": "Python 3"
    },
    "language_info": {
      "name": "python"
    }
  },
  "cells": [
    {
      "cell_type": "markdown",
      "metadata": {
        "id": "view-in-github",
        "colab_type": "text"
      },
      "source": [
        "<a href=\"https://colab.research.google.com/github/mariabandeira/ED/blob/main/ED_Grafos.ipynb\" target=\"_parent\"><img src=\"https://colab.research.google.com/assets/colab-badge.svg\" alt=\"Open In Colab\"/></a>"
      ]
    },
    {
      "cell_type": "code",
      "execution_count": 4,
      "metadata": {
        "id": "_sBDvrjFgz9s"
      },
      "outputs": [],
      "source": [
        "import queue\n",
        "\n",
        "class Graph:\n",
        "    def __init__(self, n):\n",
        "        self.num_vertices = n\n",
        "        self.matrix = [[0 for _ in range(n)] for _ in range(n)]\n",
        "        self.list = [[] for _ in range(n)]\n",
        "\n",
        "\n",
        "    def print(self):\n",
        "        print(self.matrix)\n",
        "        print(self.list)\n",
        "\n",
        "\n",
        "    def bfs(self, source):\n",
        "        dist = [-1 for _ in range(self.num_vertices)]\n",
        "        ant = [-1 for _ in range(self.num_vertices)]\n",
        "        isVisited = [False for _ in range(self.num_vertices)]\n",
        "        Q = queue.Queue()\n",
        "        Q.put(source)\n",
        "        isVisited[source] = True\n",
        "        dist[source] = 0\n",
        "\n",
        "        while Q.empty() != True:\n",
        "            p = Q.get()\n",
        "            #print(\"Vertice: \" + str(p))\n",
        "\n",
        "            for v in self.list[p]:\n",
        "                if isVisited[v] == False:\n",
        "                    dist[v] = dist[p] + 1\n",
        "                    ant[v] = p\n",
        "                    Q.put(v)\n",
        "                    isVisited[v] = True\n",
        "\n",
        "        return dist, ant\n",
        "\n",
        "    def distancia(self, s, t): #falta verificar se não existe caminho\n",
        "        dist = [-1 for _ in range(self.num_vertices)]\n",
        "        ant = [-1 for _ in range(self.num_vertices)]\n",
        "        isVisited = [False for _ in range(self.num_vertices)]\n",
        "        Q = queue.Queue()\n",
        "        Q.put(s)\n",
        "        isVisited[s] = True\n",
        "        dist[s] = 0\n",
        "\n",
        "        while Q.empty() != True:\n",
        "            p = Q.get()\n",
        "            #print(\"Vertice: \" + str(p))\n",
        "\n",
        "            for v in self.list[p]:\n",
        "                if isVisited[v] == False:\n",
        "                    dist[v] = dist[p] + 1\n",
        "                    ant[v] = p\n",
        "                    Q.put(v)\n",
        "                    isVisited[v] = True\n",
        "\n",
        "        return dist[t]\n",
        "\n",
        "    def dfs(self, v):\n",
        "        pai = [-1 for _ in range(self.num_vertices)]\n",
        "        isVisited = [False for _ in range(self.num_vertices)]\n",
        "        Q = queue.Queue()\n",
        "        Q.put(v)\n",
        "        isVisited[v] = True\n",
        "\n",
        "        while Q.empty() != True:\n",
        "            p = Q.get()\n",
        "            print(\"Vertice: \" + str(p))\n",
        "\n",
        "            for u in self.list[p]:\n",
        "                if isVisited[u] == False:\n",
        "                    Q.put(u)\n",
        "                    isVisited[u] = True\n",
        "            pai[u] = p # ERRADO (um único vértice não pode ser pai de vários) ?\n",
        "\n",
        "        return pai\n",
        "\n",
        "        '''\n",
        "        for u in range(self.num_vertices):\n",
        "            if(isVisited[u] == False):\n",
        "                self.__dfs_rec(u, isVisited, pai)\n",
        "            return pai\n",
        "        '''\n",
        "\n",
        "        '''\n",
        "        pega o último que foi empilhado (Q.get), atualiza a lista de pai e verifica a lista de adjacencia dele\n",
        "        '''\n"
      ]
    },
    {
      "cell_type": "code",
      "source": [
        "# from graph import Graph\n",
        "\n",
        "def load_from(fileName):\n",
        "    f = open(fileName, 'r')\n",
        "    n = int(f.readline())\n",
        "\n",
        "    g = Graph(n)\n",
        "\n",
        "    l = 0\n",
        "    for line in f:\n",
        "        #print(line)\n",
        "        #print(\"ola\")\n",
        "        line.strip()\n",
        "        numeros = line.split(\"\\t\")\n",
        "        c = 0\n",
        "        for i in numeros:\n",
        "            if(c == g.num_vertices):\n",
        "                break\n",
        "            #print(i)\n",
        "            g.matrix[l][c] = int(i)\n",
        "            if(g.matrix[l][c] > 0):\n",
        "                g.list[l].append(c)\n",
        "\n",
        "            c += 1\n",
        "        l += 1\n",
        "    return g\n",
        "\n",
        "gr = load_from(\"/content/pcv4.txt\")\n",
        "gr.print()\n",
        "dist, ant = gr.bfs(3)\n",
        "distan = gr.distancia(0, 3)\n",
        "dfs = gr.dfs(3)\n",
        "print(dist)\n",
        "print(ant)\n",
        "print(distan)\n",
        "print(dfs)"
      ],
      "metadata": {
        "colab": {
          "base_uri": "https://localhost:8080/"
        },
        "id": "ERg4NV8799dp",
        "outputId": "0af12db1-b641-4a76-cd06-86818c56f695"
      },
      "execution_count": 5,
      "outputs": [
        {
          "output_type": "stream",
          "name": "stdout",
          "text": [
            "[[0, 3, 4, 0], [3, 0, 5, 7], [4, 5, 0, 0], [0, 7, 0, 0]]\n",
            "[[1, 2], [0, 2, 3], [0, 1], [1]]\n",
            "Vertice: 3\n",
            "Vertice: 1\n",
            "Vertice: 0\n",
            "Vertice: 2\n",
            "[2, 1, 2, 0]\n",
            "[1, 3, 1, -1]\n",
            "2\n",
            "[-1, 2, 0, 1]\n"
          ]
        }
      ]
    }
  ]
}